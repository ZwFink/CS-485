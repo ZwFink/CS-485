{
 "cells": [
  {
   "cell_type": "code",
   "execution_count": 1,
   "metadata": {},
   "outputs": [],
   "source": [
    "%matplotlib inline\n",
    "import matplotlib\n",
    "import numpy as np\n",
    "import matplotlib.pyplot as plt\n",
    "\n",
    "import re\n",
    "\n",
    "def parse_runtime( filename ):\n",
    "    out_dict = {}\n",
    "    n_regex = re.compile( \"N=(\\d+)\" )\n",
    "    t_regex = re.compile( \"Time CPU Only: (\\d+\\.\\d+)\" )\n",
    "\n",
    "    with open( filename, 'r' ) as open_file:\n",
    "        for line in open_file:\n",
    "            n_found = n_regex.search( line )\n",
    "            t_found = t_regex.search( line )\n",
    "            if n_found:\n",
    "                n = int( n_found.group( 1 ) )\n",
    "                print( \"N: \", n)\n",
    "                out_dict[ n ] = list()\n",
    "            elif t_found:\n",
    "                time = float( t_found.group( 1 ) )\n",
    "                out_dict[ n ].append( time )\n",
    "    return out_dict\n"
   ]
  },
  {
   "cell_type": "code",
   "execution_count": 25,
   "metadata": {},
   "outputs": [
    {
     "name": "stdout",
     "output_type": "stream",
     "text": [
      "N:  1000000000\n",
      "N:  2000000000\n",
      "N:  3000000000\n",
      "N:  4000000000\n",
      "N:  5000000000\n",
      "{1000000000: [1.648479, 1.67644, 1.648134, 1.858499, 1.614204, 1.675532], 2000000000: [3.302317, 3.186133, 3.247264, 3.125404, 3.32394, 3.244102], 3000000000: [4.917774, 4.664787, 4.840819, 4.867389, 4.813148, 4.761134], 4000000000: [6.339725, 6.548195, 6.544226, 6.166334, 7.006205, 6.774142], 5000000000: [8.416452, 8.307911, 9.434832, 8.318536, 8.7026, 8.416097]}\n"
     ]
    },
    {
     "data": {
      "image/png": "[encoded data removed]",
      "text/plain": [
       "<Figure size 432x288 with 1 Axes>"
      ]
     },
     "metadata": {},
     "output_type": "display_data"
    }
   ],
   "source": [
    "times = parse_runtime( 'outfile_2.tsv' )\n",
    "ax = plt.subplot()\n",
    "\n",
    "x = list( times.keys() )\n",
    "y = [ np.mean( times[ value ] ) for value in x ]\n",
    "ax.set_ylim( 0, 15 )\n",
    "plt.suptitle( \"\")\n",
    "plt.xlabel( \"Size x 10^9\")\n",
    "plt.ylabel( \"Time (s)\")\n",
    "ax.plot( x, y, \"bs--\" )\n",
    "print( times) "
   ]
  },
  {
   "cell_type": "code",
   "execution_count": null,
   "metadata": {},
   "outputs": [],
   "source": []
  }
 ],
 "metadata": {
  "kernelspec": {
   "display_name": "Python 3",
   "language": "python",
   "name": "python3"
  },
  "language_info": {
   "codemirror_mode": {
    "name": "ipython",
    "version": 3
   },
   "file_extension": ".py",
   "mimetype": "text/x-python",
   "name": "python",
   "nbconvert_exporter": "python",
   "pygments_lexer": "ipython3",
   "version": "3.6.7"
  }
 },
 "nbformat": 4,
 "nbformat_minor": 2
}
